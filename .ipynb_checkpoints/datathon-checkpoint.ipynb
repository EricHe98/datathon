{
 "cells": [
  {
   "cell_type": "code",
   "execution_count": 1,
   "metadata": {},
   "outputs": [],
   "source": [
    "import pandas as pd\n",
    "import numpy as np"
   ]
  },
  {
   "cell_type": "code",
   "execution_count": 4,
   "metadata": {},
   "outputs": [
    {
     "name": "stderr",
     "output_type": "stream",
     "text": [
      "b'Skipping line 1322258: expected 4 fields, saw 5\\n'\n"
     ]
    }
   ],
   "source": [
    "data = pd.read_csv('pageview.csv', sep=',', error_bad_lines=False)"
   ]
  },
  {
   "cell_type": "code",
   "execution_count": 5,
   "metadata": {},
   "outputs": [
    {
     "data": {
      "text/plain": [
       "(2749999, 4)"
      ]
     },
     "execution_count": 5,
     "metadata": {},
     "output_type": "execute_result"
    }
   ],
   "source": [
    "data.shape"
   ]
  },
  {
   "cell_type": "code",
   "execution_count": 6,
   "metadata": {},
   "outputs": [
    {
     "data": {
      "text/html": [
       "<div>\n",
       "<style scoped>\n",
       "    .dataframe tbody tr th:only-of-type {\n",
       "        vertical-align: middle;\n",
       "    }\n",
       "\n",
       "    .dataframe tbody tr th {\n",
       "        vertical-align: top;\n",
       "    }\n",
       "\n",
       "    .dataframe thead th {\n",
       "        text-align: right;\n",
       "    }\n",
       "</style>\n",
       "<table border=\"1\" class=\"dataframe\">\n",
       "  <thead>\n",
       "    <tr style=\"text-align: right;\">\n",
       "      <th></th>\n",
       "      <th>ROW_NUM</th>\n",
       "      <th>USER_ID</th>\n",
       "      <th>URL_PATH</th>\n",
       "      <th>CENSUS_KEY</th>\n",
       "    </tr>\n",
       "  </thead>\n",
       "  <tbody>\n",
       "    <tr>\n",
       "      <th>0</th>\n",
       "      <td>2750000</td>\n",
       "      <td>5150228a-ad62-4a14-9169-79e7979e1a5e_46ac5dea-...</td>\n",
       "      <td>/en/friends-feelings/common-challenges/self-co...</td>\n",
       "      <td>58a9cf6a144233ad9c286a2533872b2c3a9c1998</td>\n",
       "    </tr>\n",
       "    <tr>\n",
       "      <th>1</th>\n",
       "      <td>2749999</td>\n",
       "      <td>5150228a-ad62-4a14-9169-79e7979e1a5e_f13c5ba7-...</td>\n",
       "      <td>/en/school-learning/partnering-with-childs-sch...</td>\n",
       "      <td>79cfc7a3c90fa4fc002ec3978716f823078afc23</td>\n",
       "    </tr>\n",
       "    <tr>\n",
       "      <th>2</th>\n",
       "      <td>2749998</td>\n",
       "      <td>5150228a-ad62-4a14-9169-79e7979e1a5e_22e91c69-...</td>\n",
       "      <td>/en/learning-attention-issues/child-learning-d...</td>\n",
       "      <td>bc2e78278714e173c09535d7d0260e6299b9bd09</td>\n",
       "    </tr>\n",
       "    <tr>\n",
       "      <th>3</th>\n",
       "      <td>2749997</td>\n",
       "      <td>5150228a-ad62-4a14-9169-79e7979e1a5e_5fe37e08-...</td>\n",
       "      <td>/en/learning-attention-issues/child-learning-d...</td>\n",
       "      <td>07e692d47d057cb1d0409cf6e701f9be5cda3e36</td>\n",
       "    </tr>\n",
       "    <tr>\n",
       "      <th>4</th>\n",
       "      <td>2749996</td>\n",
       "      <td>5150228a-ad62-4a14-9169-79e7979e1a5e_f106f359-...</td>\n",
       "      <td>/en/learning-attention-issues/child-learning-d...</td>\n",
       "      <td>85e32c288526fc2b24b0db665254c7f2b433a14e</td>\n",
       "    </tr>\n",
       "    <tr>\n",
       "      <th>...</th>\n",
       "      <td>...</td>\n",
       "      <td>...</td>\n",
       "      <td>...</td>\n",
       "      <td>...</td>\n",
       "    </tr>\n",
       "    <tr>\n",
       "      <th>2749994</th>\n",
       "      <td>5</td>\n",
       "      <td>5150228a-ad62-4a14-9169-79e7979e1a5e_1fd4e3d1-...</td>\n",
       "      <td>/en/school-learning/evaluations/evaluation-bas...</td>\n",
       "      <td>f3f90f46e54acf1fcbc438546d6b0bdda104252b</td>\n",
       "    </tr>\n",
       "    <tr>\n",
       "      <th>2749995</th>\n",
       "      <td>4</td>\n",
       "      <td>5150228a-ad62-4a14-9169-79e7979e1a5e_3db77245-...</td>\n",
       "      <td>/en/community-events/blogs/adhd-news/2018/10/3...</td>\n",
       "      <td>75186a2e1a40cc782d90af3fdd3eb8efbe305478</td>\n",
       "    </tr>\n",
       "    <tr>\n",
       "      <th>2749996</th>\n",
       "      <td>3</td>\n",
       "      <td>5150228a-ad62-4a14-9169-79e7979e1a5e_f4788131-...</td>\n",
       "      <td>/en/school-learning/special-services/special-e...</td>\n",
       "      <td>999372ca31a6418361414bf897f0bbc7bc21d883</td>\n",
       "    </tr>\n",
       "    <tr>\n",
       "      <th>2749997</th>\n",
       "      <td>2</td>\n",
       "      <td>5150228a-ad62-4a14-9169-79e7979e1a5e_c4716c2f-...</td>\n",
       "      <td>/en/friends-feelings/managing-feelings/stress-...</td>\n",
       "      <td>10700fb54339fa7aa111ab536cef9d5df0fe71d9</td>\n",
       "    </tr>\n",
       "    <tr>\n",
       "      <th>2749998</th>\n",
       "      <td>1</td>\n",
       "      <td>5150228a-ad62-4a14-9169-79e7979e1a5e_db0dad17-...</td>\n",
       "      <td>/en/tools/parenting-coach/articles/come-up-wit...</td>\n",
       "      <td>0f11527e4bf4c552bd44670bdd03902860a0e7ac</td>\n",
       "    </tr>\n",
       "  </tbody>\n",
       "</table>\n",
       "<p>2749999 rows × 4 columns</p>\n",
       "</div>"
      ],
      "text/plain": [
       "         ROW_NUM                                            USER_ID  \\\n",
       "0        2750000  5150228a-ad62-4a14-9169-79e7979e1a5e_46ac5dea-...   \n",
       "1        2749999  5150228a-ad62-4a14-9169-79e7979e1a5e_f13c5ba7-...   \n",
       "2        2749998  5150228a-ad62-4a14-9169-79e7979e1a5e_22e91c69-...   \n",
       "3        2749997  5150228a-ad62-4a14-9169-79e7979e1a5e_5fe37e08-...   \n",
       "4        2749996  5150228a-ad62-4a14-9169-79e7979e1a5e_f106f359-...   \n",
       "...          ...                                                ...   \n",
       "2749994        5  5150228a-ad62-4a14-9169-79e7979e1a5e_1fd4e3d1-...   \n",
       "2749995        4  5150228a-ad62-4a14-9169-79e7979e1a5e_3db77245-...   \n",
       "2749996        3  5150228a-ad62-4a14-9169-79e7979e1a5e_f4788131-...   \n",
       "2749997        2  5150228a-ad62-4a14-9169-79e7979e1a5e_c4716c2f-...   \n",
       "2749998        1  5150228a-ad62-4a14-9169-79e7979e1a5e_db0dad17-...   \n",
       "\n",
       "                                                  URL_PATH  \\\n",
       "0        /en/friends-feelings/common-challenges/self-co...   \n",
       "1        /en/school-learning/partnering-with-childs-sch...   \n",
       "2        /en/learning-attention-issues/child-learning-d...   \n",
       "3        /en/learning-attention-issues/child-learning-d...   \n",
       "4        /en/learning-attention-issues/child-learning-d...   \n",
       "...                                                    ...   \n",
       "2749994  /en/school-learning/evaluations/evaluation-bas...   \n",
       "2749995  /en/community-events/blogs/adhd-news/2018/10/3...   \n",
       "2749996  /en/school-learning/special-services/special-e...   \n",
       "2749997  /en/friends-feelings/managing-feelings/stress-...   \n",
       "2749998  /en/tools/parenting-coach/articles/come-up-wit...   \n",
       "\n",
       "                                       CENSUS_KEY  \n",
       "0        58a9cf6a144233ad9c286a2533872b2c3a9c1998  \n",
       "1        79cfc7a3c90fa4fc002ec3978716f823078afc23  \n",
       "2        bc2e78278714e173c09535d7d0260e6299b9bd09  \n",
       "3        07e692d47d057cb1d0409cf6e701f9be5cda3e36  \n",
       "4        85e32c288526fc2b24b0db665254c7f2b433a14e  \n",
       "...                                           ...  \n",
       "2749994  f3f90f46e54acf1fcbc438546d6b0bdda104252b  \n",
       "2749995  75186a2e1a40cc782d90af3fdd3eb8efbe305478  \n",
       "2749996  999372ca31a6418361414bf897f0bbc7bc21d883  \n",
       "2749997  10700fb54339fa7aa111ab536cef9d5df0fe71d9  \n",
       "2749998  0f11527e4bf4c552bd44670bdd03902860a0e7ac  \n",
       "\n",
       "[2749999 rows x 4 columns]"
      ]
     },
     "execution_count": 6,
     "metadata": {},
     "output_type": "execute_result"
    }
   ],
   "source": [
    "data"
   ]
  },
  {
   "cell_type": "code",
   "execution_count": null,
   "metadata": {},
   "outputs": [],
   "source": []
  }
 ],
 "metadata": {
  "kernelspec": {
   "display_name": "Python 3",
   "language": "python",
   "name": "python3"
  },
  "language_info": {
   "codemirror_mode": {
    "name": "ipython",
    "version": 3
   },
   "file_extension": ".py",
   "mimetype": "text/x-python",
   "name": "python",
   "nbconvert_exporter": "python",
   "pygments_lexer": "ipython3",
   "version": "3.7.3"
  }
 },
 "nbformat": 4,
 "nbformat_minor": 2
}
