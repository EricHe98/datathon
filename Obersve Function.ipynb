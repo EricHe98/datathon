{
 "cells": [
  {
   "cell_type": "code",
   "execution_count": null,
   "metadata": {},
   "outputs": [],
   "source": [
    "import pandas as pd\n",
    "from recommendation import AbstractRecommender\n",
    "\n",
    "class ExampleRecommender(AbstractRecommender):\n",
    "    def __init__(self, content_embed):\n",
    "        self.last_page_viewed = {}\n",
    "        self.count = {}\n",
    "        self.censusdict = {}\n",
    "        self.sumembedding = {}\n",
    "        self.avgembedding = {} \n",
    "        self.content_embed = pd.read_csv(content_embed, index_col = 0)\n",
    "\n",
    "    def observe(self, user_interaction):\n",
    "        user_id = user_interaction[\"USER_ID\"]\n",
    "        url_path = user_interaction[\"URL_PATH\"]\n",
    "        new_url = url_path.replace(\"/en\", \"\").replace(\"/es-mx\", \"\")\n",
    "        census_key = user_interaction[\"CENSUS_KEY\"]\n",
    "\n",
    "        self.last_page_viewed[user_id] = url_path\n",
    "        \n",
    "        if user_id in self.count.keys(): self.count[user_id] += 1\n",
    "        else: self.count[user_id] = 1\n",
    "        \n",
    "        self.censusdict[user_id] = census_key\n",
    "        \n",
    "        if user_id in self.sumembedding.keys(): \n",
    "            self.sumembedding[user_id] += self.content_embed.loc[new_url]\n",
    "        else: self.sumembedding[user_id] = self.content_embed.loc[new_url]\n",
    " \n",
    "        self.avgembedding[user_id] = self.sumembedding[user_id] / self.count[user_id]\n",
    "    \n",
    "    def recommend(self, user_id, n):\n",
    "        try:\n",
    "            return n * [self.last_page_viewed[user_id]]\n",
    "        except KeyError:\n",
    "            return n * [\"/en\"]"
   ]
  }
 ],
 "metadata": {
  "kernelspec": {
   "display_name": "Python 3",
   "language": "python",
   "name": "python3"
  },
  "language_info": {
   "codemirror_mode": {
    "name": "ipython",
    "version": 3
   },
   "file_extension": ".py",
   "mimetype": "text/x-python",
   "name": "python",
   "nbconvert_exporter": "python",
   "pygments_lexer": "ipython3",
   "version": "3.7.3"
  }
 },
 "nbformat": 4,
 "nbformat_minor": 2
}
